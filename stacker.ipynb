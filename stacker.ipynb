{
  "nbformat": 4,
  "nbformat_minor": 0,
  "metadata": {
    "colab": {
      "name": "stacker.ipynb",
      "provenance": []
    },
    "kernelspec": {
      "name": "python3",
      "display_name": "Python 3"
    }
  },
  "cells": [
    {
      "cell_type": "code",
      "metadata": {
        "id": "7ZoWmswTPg0s"
      },
      "source": [
        "from random import randint\n",
        "\n",
        "class Board:\n",
        "    def __init__(self):\n",
        "        self.board = []\n",
        "        self.width = 7\n",
        "        self.height = 15\n",
        "\n",
        "    def reset(self):\n",
        "        for h in range(15):\n",
        "            self.board.append([])\n",
        "            for w in range(7):\n",
        "                self.board[h].append(0)\n",
        "    \n",
        "    def update(self, player):\n",
        "        for i in range(7):\n",
        "              self.board[player.y][i] = 0\n",
        "              \n",
        "        for i in range(player.width):\n",
        "            self.board[player.y][player.x + i] = 1\n",
        "\n",
        "        # minorPrize = 11\n",
        "        # majorPrize = 15\n",
        "\n",
        "class Player:\n",
        "    def __init__(self):\n",
        "        self.direction = 1\n",
        "        self.x = 0\n",
        "        self.y = 14\n",
        "        self.width = 3\n",
        "        self.height = 1\n",
        "\n",
        "    def reset(self):\n",
        "        self.width = 3\n",
        "        self.x = randint(0, 7 - self.width)\n",
        "        self.y = 14\n",
        "\n",
        "    def moveVertical(self):\n",
        "        # check this later\n",
        "        self.y -= 1\n",
        "        self.x = randint(0, 7 - self.width)\n",
        "        \n",
        "    def moveHorizontal(self):\n",
        "        if self.x + self.width == 7:\n",
        "            self.direction = -1\n",
        "        \n",
        "        if self.x == 0:\n",
        "            self.direction = 1\n",
        "            \n",
        "        self.x += self.direction\n",
        "\n",
        "class Game:\n",
        "    def __init__(self):\n",
        "        self.board = Board()\n",
        "        self.player = Player()\n",
        "        \n",
        "        self.reset()\n",
        "        \n",
        "    def reset(self):\n",
        "        self.board.reset()\n",
        "        self.player.reset()\n",
        "        \n",
        "    def update(self):\n",
        "        self.player.moveHorizontal()\n",
        "        self.board.update(self.player)\n",
        "\n",
        "    def stop(self):\n",
        "        if self.player.y == 14:\n",
        "            # first row - don't need to check anything\n",
        "            self.player.moveVertical()\n",
        "        else:\n",
        "            # check undernearth and assign new width to player\n",
        "            # if width == 0 then its gameover\n",
        "            # if player.width == 1 and player.y == -1 the player won the game\n",
        "            return\n",
        "\n",
        "    def draw(self):\n",
        "        for row in self.board.board:\n",
        "            print(row)\n",
        "\n",
        "        print()"
      ],
      "execution_count": null,
      "outputs": []
    },
    {
      "cell_type": "code",
      "metadata": {
        "colab": {
          "base_uri": "https://localhost:8080/"
        },
        "id": "ibQLFPKGPlEH",
        "outputId": "e9d08ae4-6059-4064-b407-a88f32a1bbfa"
      },
      "source": [
        "game = Game()\n",
        "game.update()\n",
        "game.draw()\n",
        "\n",
        "game.stop()\n",
        "game.update()\n",
        "game.draw()\n"
      ],
      "execution_count": null,
      "outputs": [
        {
          "output_type": "stream",
          "text": [
            "[0, 0, 0, 0, 0, 0, 0]\n",
            "[0, 0, 0, 0, 0, 0, 0]\n",
            "[0, 0, 0, 0, 0, 0, 0]\n",
            "[0, 0, 0, 0, 0, 0, 0]\n",
            "[0, 0, 0, 0, 0, 0, 0]\n",
            "[0, 0, 0, 0, 0, 0, 0]\n",
            "[0, 0, 0, 0, 0, 0, 0]\n",
            "[0, 0, 0, 0, 0, 0, 0]\n",
            "[0, 0, 0, 0, 0, 0, 0]\n",
            "[0, 0, 0, 0, 0, 0, 0]\n",
            "[0, 0, 0, 0, 0, 0, 0]\n",
            "[0, 0, 0, 0, 0, 0, 0]\n",
            "[0, 0, 0, 0, 0, 0, 0]\n",
            "[0, 0, 0, 0, 0, 0, 0]\n",
            "[0, 0, 0, 1, 1, 1, 0]\n",
            "\n",
            "[0, 0, 0, 0, 0, 0, 0]\n",
            "[0, 0, 0, 0, 0, 0, 0]\n",
            "[0, 0, 0, 0, 0, 0, 0]\n",
            "[0, 0, 0, 0, 0, 0, 0]\n",
            "[0, 0, 0, 0, 0, 0, 0]\n",
            "[0, 0, 0, 0, 0, 0, 0]\n",
            "[0, 0, 0, 0, 0, 0, 0]\n",
            "[0, 0, 0, 0, 0, 0, 0]\n",
            "[0, 0, 0, 0, 0, 0, 0]\n",
            "[0, 0, 0, 0, 0, 0, 0]\n",
            "[0, 0, 0, 0, 0, 0, 0]\n",
            "[0, 0, 0, 0, 0, 0, 0]\n",
            "[0, 0, 0, 0, 0, 0, 0]\n",
            "[0, 0, 0, 1, 1, 1, 0]\n",
            "[0, 0, 0, 1, 1, 1, 0]\n",
            "\n"
          ],
          "name": "stdout"
        }
      ]
    },
    {
      "cell_type": "code",
      "metadata": {
        "id": "u1YIBc-PPo4E"
      },
      "source": [
        "board.reset()"
      ],
      "execution_count": null,
      "outputs": []
    },
    {
      "cell_type": "code",
      "metadata": {
        "id": "GFEEmfGJPpnb"
      },
      "source": [
        "board.board"
      ],
      "execution_count": null,
      "outputs": []
    },
    {
      "cell_type": "code",
      "metadata": {
        "id": "lV4kz05WQIHC"
      },
      "source": [
        ""
      ],
      "execution_count": null,
      "outputs": []
    }
  ]
}